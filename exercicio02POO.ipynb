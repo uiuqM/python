{
  "nbformat": 4,
  "nbformat_minor": 0,
  "metadata": {
    "colab": {
      "name": "exercicio02POO.ipynb",
      "provenance": []
    },
    "kernelspec": {
      "name": "python3",
      "display_name": "Python 3"
    },
    "language_info": {
      "name": "python"
    }
  },
  "cells": [
    {
      "cell_type": "markdown",
      "source": [
        "Faça um programa que crie a classe Conta Corrente: Crie uma classe para implementar uma conta\n",
        "corrente. A classe deve possuir os seguintes atributos: número da conta, nome do correntista e\n",
        "saldo. Os métodos são os seguintes: mostrardados, alterarNome, depósito e saque; No construtor, saldo é\n",
        "opcional, com valor default zero e os demais atributos são obrigatórios."
      ],
      "metadata": {
        "id": "69A7hhw4koJD"
      }
    },
    {
      "cell_type": "code",
      "execution_count": 4,
      "metadata": {
        "id": "9gwzCQ4-klnX",
        "colab": {
          "base_uri": "https://localhost:8080/"
        },
        "outputId": "20c9284b-b2f5-4948-b4c5-e48f0b1b6249"
      },
      "outputs": [
        {
          "output_type": "stream",
          "name": "stdout",
          "text": [
            "Mounted at /content/drive\n"
          ]
        }
      ],
      "source": [
        "from google.colab import drive\n",
        "#monta o drive do google drive\n",
        "drive.mount(\"/content/drive\") \n",
        "\n",
        "import os\n",
        "#muda o diretório do google drive para o indicado abaixo\n",
        "os.chdir(\"/content/drive/My Drive/Colab Notebooks\")\n"
      ]
    },
    {
      "cell_type": "code",
      "source": [
        "from moduloconta import *\n",
        "\n",
        "conta01=conta(1,\"Marcelo\",100)\n",
        "conta01.mostradados()\n",
        "conta01.deposito(700)\n",
        "conta01.alteranome(\"Esposa\")\n",
        "conta01.saque(500)\n",
        "conta01.mostradados()"
      ],
      "metadata": {
        "colab": {
          "base_uri": "https://localhost:8080/"
        },
        "id": "m9gUmau8krz9",
        "outputId": "703ead9b-b76b-4afa-cfb4-50d4c837dafd"
      },
      "execution_count": 5,
      "outputs": [
        {
          "output_type": "stream",
          "name": "stdout",
          "text": [
            "No. da conta= 1  Nome= Marcelo  Saldo= 100\n",
            "No. da conta= 1  Nome= Esposa  Saldo= 300\n"
          ]
        }
      ]
    }
  ]
}